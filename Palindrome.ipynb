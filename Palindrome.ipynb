{
  "nbformat": 4,
  "nbformat_minor": 0,
  "metadata": {
    "colab": {
      "provenance": [],
      "authorship_tag": "ABX9TyM5ty3Ex6pRFHEoa3gmUrRV",
      "include_colab_link": true
    },
    "kernelspec": {
      "name": "python3",
      "display_name": "Python 3"
    },
    "language_info": {
      "name": "python"
    }
  },
  "cells": [
    {
      "cell_type": "markdown",
      "metadata": {
        "id": "view-in-github",
        "colab_type": "text"
      },
      "source": [
        "<a href=\"https://colab.research.google.com/github/SnehaPradhan04/Python_Basics/blob/main/Palindrome.ipynb\" target=\"_parent\"><img src=\"https://colab.research.google.com/assets/colab-badge.svg\" alt=\"Open In Colab\"/></a>"
      ]
    },
    {
      "cell_type": "code",
      "execution_count": 1,
      "metadata": {
        "colab": {
          "base_uri": "https://localhost:8080/"
        },
        "id": "ITX5SlEANobZ",
        "outputId": "0ef387cd-2b35-407e-9a6f-98f3e07aa369"
      },
      "outputs": [
        {
          "output_type": "stream",
          "name": "stdout",
          "text": [
            "Enter numbers: 1 3 3 2 3 3 1\n",
            "1 3 3 2 3 3 1 is a palindrome.\n"
          ]
        }
      ],
      "source": [
        "def palindrome(number):\n",
        "    return str(number) == str(number)[::-1]\n",
        "\n",
        "user_input = input(\"Enter numbers: \")\n",
        "if palindrome(user_input):\n",
        "    print(f\"{user_input} is a palindrome.\")\n",
        "else:\n",
        "    print(f\"{user_input} is not a palindrome.\")\n"
      ]
    },
    {
      "cell_type": "code",
      "source": [
        "def palindrome(number):\n",
        "    return str(number) == str(number)[::-1]\n",
        "\n",
        "user_input = input(\"Enter numbers: \")\n",
        "if palindrome(user_input):\n",
        "    print(f\"{user_input} is a palindrome.\")\n",
        "else:\n",
        "    print(f\"{user_input} is not a palindrome.\")\n"
      ],
      "metadata": {
        "colab": {
          "base_uri": "https://localhost:8080/"
        },
        "id": "oDibHWenNxnp",
        "outputId": "1af0de45-4964-4a06-ee11-cd9baf75a0ee"
      },
      "execution_count": 2,
      "outputs": [
        {
          "output_type": "stream",
          "name": "stdout",
          "text": [
            "Enter numbers: 1 5 3 4 2 1 4 5\n",
            "1 5 3 4 2 1 4 5 is not a palindrome.\n"
          ]
        }
      ]
    }
  ]
}